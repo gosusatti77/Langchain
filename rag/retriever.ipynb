{
 "cells": [
  {
   "cell_type": "markdown",
   "id": "1e22330d",
   "metadata": {},
   "source": [
    "##Retriever and chain with langchain"
   ]
  },
  {
   "cell_type": "markdown",
   "id": "9863b509",
   "metadata": {},
   "source": []
  }
 ],
 "metadata": {
  "kernelspec": {
   "display_name": "Python 3",
   "language": "python",
   "name": "python3"
  },
  "language_info": {
   "name": "python",
   "version": "3.9.21"
  }
 },
 "nbformat": 4,
 "nbformat_minor": 5
}
